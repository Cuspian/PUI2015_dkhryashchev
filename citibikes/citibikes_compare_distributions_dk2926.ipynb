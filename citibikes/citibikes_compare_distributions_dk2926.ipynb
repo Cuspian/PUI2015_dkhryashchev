{
 "cells": [
  {
   "cell_type": "markdown",
   "metadata": {
    "collapsed": true
   },
   "source": [
    "# Assignment 1:\n",
    "### by Denis Khryashchev (dk2926)   \n",
    "### Comparing citi bike distributions for the dataset 201509-citibike-tripdata.csv\n",
    "### using the Kolmogorov-Smirnov, Pearson's and Spearman's tests :\n",
    "### 1. male and female riders\n",
    "### 2. day and night riders\n",
    "### +extra: creating my own implementation of the KS test and comparing it to that of Scipy"
   ]
  },
  {
   "cell_type": "markdown",
   "metadata": {},
   "source": [
    "### 1. Loading, cleaning, and summarizing the citibike data, plotting histograms"
   ]
  },
  {
   "cell_type": "code",
   "execution_count": 1,
   "metadata": {
    "collapsed": false,
    "scrolled": true
   },
   "outputs": [
    {
     "name": "stdout",
     "output_type": "stream",
     "text": [
      "Populating the interactive namespace from numpy and matplotlib\n"
     ]
    }
   ],
   "source": [
    "# importing \n",
    "import pylab as pl\n",
    "import pandas as pd\n",
    "import numpy as np\n",
    "%pylab inline\n",
    "import os\n",
    "import scipy.stats\n",
    "import math\n",
    "from scipy.stats import spearmanr\n",
    "\n",
    "# setting display limit for pandas dataframes\n",
    "pd.set_option('display.max_rows', 20)"
   ]
  },
  {
   "cell_type": "code",
   "execution_count": 2,
   "metadata": {
    "collapsed": false,
    "scrolled": false
   },
   "outputs": [
    {
     "name": "stdout",
     "output_type": "stream",
     "text": [
      "           usertype  birth year  gender\n",
      "0        Subscriber        1989       1\n",
      "1        Subscriber        1987       1\n",
      "3        Subscriber        1992       1\n",
      "4        Subscriber        1976       1\n",
      "5        Subscriber        1955       1\n",
      "6        Subscriber        1964       1\n",
      "8        Subscriber        1975       1\n",
      "10       Subscriber        1994       1\n",
      "11       Subscriber        1984       1\n",
      "12       Subscriber        1993       1\n",
      "...             ...         ...     ...\n",
      "1289687  Subscriber        1982       1\n",
      "1289688  Subscriber        1990       1\n",
      "1289689  Subscriber        1982       1\n",
      "1289690  Subscriber        1982       2\n",
      "1289691  Subscriber        1990       1\n",
      "1289692  Subscriber        1980       1\n",
      "1289693  Subscriber        1982       1\n",
      "1289696  Subscriber        1979       1\n",
      "1289697  Subscriber        1985       2\n",
      "1289698  Subscriber        1977       1\n",
      "\n",
      "[1079592 rows x 3 columns]\n"
     ]
    }
   ],
   "source": [
    "# Reading the citibike data for September, 2015; 201509-citibike-tripdata.csv,\n",
    "# selecting only birth year, usertype, and gender columns\n",
    "# https://drive.google.com/file/d/0B8EwoI-cGyuZY0QwWlFmNjlnMms/edit\n",
    "ages = pd.read_csv('201509-citibike-tripdata.csv', header=0, usecols=[\"birth year\", \"usertype\", \"gender\"])\n",
    "# filtering Subscribers, removing Customers\n",
    "ages = ages[ages.usertype == \"Subscriber\"]\n",
    "print ages"
   ]
  },
  {
   "cell_type": "code",
   "execution_count": 3,
   "metadata": {
    "collapsed": false
   },
   "outputs": [
    {
     "name": "stdout",
     "output_type": "stream",
     "text": [
      "          M   F\n",
      "0        26 NaN\n",
      "1        28 NaN\n",
      "3        23 NaN\n",
      "4        39 NaN\n",
      "5        60 NaN\n",
      "6        51 NaN\n",
      "8        40 NaN\n",
      "10       21 NaN\n",
      "11       31 NaN\n",
      "12       22 NaN\n",
      "...      ..  ..\n",
      "1289687  33 NaN\n",
      "1289688  25 NaN\n",
      "1289689  33 NaN\n",
      "1289690 NaN  33\n",
      "1289691  25 NaN\n",
      "1289692  35 NaN\n",
      "1289693  33 NaN\n",
      "1289696  36 NaN\n",
      "1289697 NaN  30\n",
      "1289698  38 NaN\n",
      "\n",
      "[1079592 rows x 2 columns]\n"
     ]
    }
   ],
   "source": [
    "# Extracting male and female riders' ages and removing extra fields\n",
    "ages['M'] = 2015-ages['birth year'][(ages['gender'] == 1)]\n",
    "ages['F'] = 2015-ages['birth year'][(ages['gender'] == 2)]\n",
    "ages.drop(['usertype', 'birth year', 'gender'], axis=1, inplace=True)\n",
    "print ages"
   ]
  },
  {
   "cell_type": "code",
   "execution_count": 4,
   "metadata": {
    "collapsed": false
   },
   "outputs": [
    {
     "data": {
      "image/png": "[encoded data removed]",
      "text/plain": [
       "<matplotlib.figure.Figure at 0x3f17240>"
      ]
     },
     "metadata": {},
     "output_type": "display_data"
    },
    {
     "data": {
      "image/png": "[encoded data removed]",
      "text/plain": [
       "<matplotlib.figure.Figure at 0xbff8048>"
      ]
     },
     "metadata": {},
     "output_type": "display_data"
    }
   ],
   "source": [
    "# Caclulating the distributions for the ages of the riders, ages between 10 and 90 are aggregated into groups of 5 years wide.\n",
    "bins = np.arange(10, 90, 5)\n",
    "mplot=ages.M.groupby(pd.cut(ages.M, bins)).agg([count_nonzero]).plot(kind='bar')\n",
    "fplot=ages.F.groupby(pd.cut(ages.F, bins)).agg([count_nonzero]).plot(kind='bar')"
   ]
  },
  {
   "cell_type": "code",
   "execution_count": 5,
   "metadata": {
    "collapsed": false,
    "scrolled": false
   },
   "outputs": [
    {
     "name": "stdout",
     "output_type": "stream",
     "text": [
      "          count_nonzero\n",
      "M                      \n",
      "(10, 15]            NaN\n",
      "(15, 20]       0.002142\n",
      "(20, 25]       0.036908\n",
      "(25, 30]       0.085288\n",
      "(30, 35]       0.089603\n",
      "(35, 40]       0.066639\n",
      "(40, 45]       0.042734\n",
      "(45, 50]       0.026600\n",
      "(50, 55]       0.015686\n",
      "(55, 60]       0.013270\n",
      "(60, 65]       0.006869\n",
      "(65, 70]       0.001769\n",
      "(70, 75]       0.000216\n",
      "(75, 80]       0.000181\n",
      "(80, 85]       0.000000\n"
     ]
    },
    {
     "data": {
      "image/png": "[encoded data removed]",
      "text/plain": [
       "<matplotlib.figure.Figure at 0x1be9a6a0>"
      ]
     },
     "metadata": {},
     "output_type": "display_data"
    }
   ],
   "source": [
    "# Calculating cumulative distributions of ages for male and female riders\n",
    "M=ages.M.groupby(pd.cut(ages.M, bins)).agg([count_nonzero]).cumsum()\n",
    "F=ages.F.groupby(pd.cut(ages.F, bins)).agg([count_nonzero]).cumsum()\n",
    "\n",
    "# Printing out the normalized differences between the probabilities for male and female riders\n",
    "print np.abs(M / np.max(M)-F / np.max(F))\n",
    "\n",
    "#plotting the cumulative distributions\n",
    "mplot=pl.plot(bins[:-1] + 5, M / np.max(M), label = \"Male\")\n",
    "fplot=pl.plot(bins[:-1] + 5, F / np.max(F), label = \"Female\")\n",
    "lplot=pl.legend()"
   ]
  },
  {
   "cell_type": "markdown",
   "metadata": {},
   "source": [
    "### 2. Performing Kolmogorov-Smirnov, Pearson's and Spearman's tests, using SciPy library + calculating Kolmogorov-Smirnov from scratch\n",
    "### Kolmogorov-Smirnov"
   ]
  },
  {
   "cell_type": "code",
   "execution_count": 6,
   "metadata": {
    "collapsed": false
   },
   "outputs": [
    {
     "name": "stdout",
     "output_type": "stream",
     "text": [
      "Kolmogorov-Smirnov statistc = 0.499403478351, p-value = 0.0\n"
     ]
    }
   ],
   "source": [
    "# Calculating the Kolmogorov-Smirnov statistic for the ages of male and female riders\n",
    "ks=scipy.stats.ks_2samp(ages.M, ages.F)\n",
    "\n",
    "#print \"Kolmogorov-Smirnov statistic = \", ks.d\n",
    "#print \"p-value = \", ks.p-value\n",
    "print \"Kolmogorov-Smirnov statistc = %s, p-value = %s\" %ks"
   ]
  },
  {
   "cell_type": "markdown",
   "metadata": {},
   "source": [
    "#### Table with $\\alpha$ and $c$$(\\alpha$$)$ values for K-S test\n",
    "| $\\alpha$   | $0.10$ | $0.05$ | $0.025$ | $0.01$ | $0.005$ | $0.001$ |         \n",
    "| :-: | :-: | :-: | :-: | :-: | :-: | :-: | \n",
    "| $c$$(\\alpha$$)$| $1.22$ | $1.36$ | $1.48$ | $1.63$  | $1.73$  | $1.95$  |"
   ]
  },
  {
   "cell_type": "markdown",
   "metadata": {},
   "source": [
    "####  P-value for K-S statistic shows the chance that the value of the Komogorov-Smirnov D statistic would be as large or larger than #### observed. Having the significance level of 0.05, the c(a) value is 1.36, according to the table. The test returned the statistic value of 0.5 and p-value of 0, therefore we reject the null-hypothesis\n",
    "#### The next block is my implementation of the K-S test. The implementation will calculate the right side of the inequality to compare the result to the values from the table\n",
    "$D_KS(n1,n2) > c(\\alpha) \\sqrt{\\frac{(n1+n2)}{n1n2}}$"
   ]
  },
  {
   "cell_type": "code",
   "execution_count": 7,
   "metadata": {
    "collapsed": false
   },
   "outputs": [
    {
     "name": "stdout",
     "output_type": "stream",
     "text": [
      "The size of the male sample is 808552, the size of the female sample is 269400 \n"
     ]
    }
   ],
   "source": [
    "# Counting sizes of the Male and Female riders samples\n",
    "n_1=(isnan(ages.M)==0).sum()\n",
    "n_2=(isnan(ages.F)==0).sum()\n",
    "print \"The size of the male sample is %s, the size of the female sample is %s \" %(n_1, n_2)"
   ]
  },
  {
   "cell_type": "markdown",
   "metadata": {},
   "source": [
    "#### calculating the right side value, $c(\\alpha) \\sqrt{\\frac{(n1+n2)}{n1n2}}$"
   ]
  },
  {
   "cell_type": "code",
   "execution_count": 8,
   "metadata": {
    "collapsed": false
   },
   "outputs": [
    {
     "name": "stdout",
     "output_type": "stream",
     "text": [
      "Right side of the inequality, c(a)*sqrt =  0.00302542120238\n",
      "Kolmogorov-Smirnov statistic =  0.0925687590148\n"
     ]
    }
   ],
   "source": [
    "# Having the significance level of 0.05 returns c(a) of 1.36, according to the table.\n",
    "\n",
    "c_a_sqrt = 1.36*sqrt(1.0*(n_1+n_2)/(n_1*n_2))\n",
    "print \"Right side of the inequality, c(a)*sqrt = \", c_a_sqrt\n",
    "\n",
    "# Calculating cumulative distributions of ages for male and female riders\n",
    "bins = np.arange(10, 90, 1)\n",
    "M_ks=ages.M.groupby(pd.cut(ages.M, bins)).agg([count_nonzero]).cumsum()\n",
    "F_ks=ages.F.groupby(pd.cut(ages.F, bins)).agg([count_nonzero]).cumsum()\n",
    "# Calculating Kolmogorov-Smirnov statistic\n",
    "D_ks = np.max(abs(M_ks/ np.max(M_ks)- F_ks/ np.max(F_ks)))\n",
    "print \"Kolmogorov-Smirnov statistic = \", D_ks.count_nonzero"
   ]
  },
  {
   "cell_type": "markdown",
   "metadata": {},
   "source": [
    "#### Having the significance level of 0.05, the c(a) value is 1.36, according to the table. The test returned the statistic value of 0.093, while the calculated $c(\\alpha) \\sqrt{\\frac{(n1+n2)}{n1n2}}$ is equal to 0.003, which is less than the 0.093. Therefore, the null-hypothesis is rejected. \n",
    "#### Calculated manually Kolmogorov-Smirnov test happened to decline from the Scipy one. It produced the same result, but the result is much less accurate.\n",
    "### Pearson's test"
   ]
  },
  {
   "cell_type": "code",
   "execution_count": 9,
   "metadata": {
    "collapsed": false
   },
   "outputs": [
    {
     "name": "stdout",
     "output_type": "stream",
     "text": [
      "Two-tailed pearson p-values: 0.00329917436851 0.0868244220726\n"
     ]
    }
   ],
   "source": [
    "# checking the sizes of the Male and Female samples \n",
    "# cleaning samples from NaN values\n",
    "M= ages.M[isnan(ages.M)==0]\n",
    "F= ages.F[isnan(ages.F)==0]\n",
    "# randomly equalizing the sizes of samples, by selecting random samples from the bigger samples\n",
    "# of the size of the size of the smaller sample\n",
    "if (M.count()>F.count()):\n",
    "    M = M.sample(F.count())\n",
    "if (M.count()<F.count()):\n",
    "    F = F.sample(M.count()) \n",
    "\n",
    "pearson = scipy.stats.pearsonr(M, F)\n",
    "print \"Two-tailed pearson p-values: %s %s\" %pearson\n",
    "\n",
    "#print \"Since Pearson’s correlation coefficient is close to 0, there is no linear relationship\""
   ]
  },
  {
   "cell_type": "markdown",
   "metadata": {},
   "source": [
    "#### having the r-value really small, <<0.0033 indicates that there is no linear correlation between the Male and Female ages\n",
    "### Spearman's test"
   ]
  },
  {
   "cell_type": "code",
   "execution_count": 10,
   "metadata": {
    "collapsed": false
   },
   "outputs": [
    {
     "name": "stdout",
     "output_type": "stream",
     "text": [
      "(0.0029914627849368892, 0.12050011741076774)\n"
     ]
    }
   ],
   "source": [
    "#please perform the Spearman's test and tell me what you find\n",
    "spearman = spearmanr(M, F,axis=0)\n",
    "print spearman"
   ]
  },
  {
   "cell_type": "markdown",
   "metadata": {},
   "source": [
    "#### The Spearman test returned the correlation coefficient of 0.0029, meaning that there is a very small correlation between the distributions; and a p-value of 0.12 for a hypothesis test of two distributions whose variables are uncorrelated."
   ]
  },
  {
   "cell_type": "markdown",
   "metadata": {},
   "source": [
    "## Repeating the tests for the day vs the night riders\n",
    "### 1. Loading, cleaning, and summarizing the citibike data, plotting histograms"
   ]
  },
  {
   "cell_type": "code",
   "execution_count": 11,
   "metadata": {
    "collapsed": false
   },
   "outputs": [
    {
     "name": "stdout",
     "output_type": "stream",
     "text": [
      "                  starttime    usertype  birth year\n",
      "0       2015-09-01 00:00:00  Subscriber        1989\n",
      "1       2015-09-01 00:00:00  Subscriber        1987\n",
      "3       2015-09-01 00:00:07  Subscriber        1992\n",
      "4       2015-09-01 00:00:09  Subscriber        1976\n",
      "5       2015-09-01 00:00:13  Subscriber        1955\n",
      "6       2015-09-01 00:00:49  Subscriber        1964\n",
      "8       2015-09-01 00:00:53  Subscriber        1975\n",
      "10      2015-09-01 00:01:05  Subscriber        1994\n",
      "11      2015-09-01 00:01:06  Subscriber        1984\n",
      "12      2015-09-01 00:01:37  Subscriber        1993\n",
      "...                     ...         ...         ...\n",
      "1289687 2015-09-30 23:57:55  Subscriber        1982\n",
      "1289688 2015-09-30 23:58:14  Subscriber        1990\n",
      "1289689 2015-09-30 23:58:21  Subscriber        1982\n",
      "1289690 2015-09-30 23:58:34  Subscriber        1982\n",
      "1289691 2015-09-30 23:58:37  Subscriber        1990\n",
      "1289692 2015-09-30 23:58:44  Subscriber        1980\n",
      "1289693 2015-09-30 23:58:56  Subscriber        1982\n",
      "1289696 2015-09-30 23:59:44  Subscriber        1979\n",
      "1289697 2015-09-30 23:59:48  Subscriber        1985\n",
      "1289698 2015-09-30 23:59:57  Subscriber        1977\n",
      "\n",
      "[1079592 rows x 3 columns]\n"
     ]
    }
   ],
   "source": [
    "# Reading the citibike data for September, 2015; 201509-citibike-tripdata.csv,\n",
    "# selecting only birth year, usertype, and gender columns\n",
    "# https://drive.google.com/file/d/0B8EwoI-cGyuZY0QwWlFmNjlnMms/edit\n",
    "# I assume for the simplicity that sunrises in NYC in September are at 6 a.m. and sunsets are at 8 p.m.\n",
    "# Therefore the day is considered to be from 6 a.m. to 8 p.m.\n",
    "# Reading the data\n",
    "#ages = pd.read_csv('201509-citibike-tripdata.csv')\n",
    "ages = pd.read_csv('201509-citibike-tripdata.csv', parse_dates=['starttime'], header=0, usecols=[\"starttime\", \n",
    "                                                                                                 \"birth year\", \"usertype\"])\n",
    "# filtering Subscribers, removing Customers\n",
    "ages = ages[ages.usertype == \"Subscriber\"]\n",
    "print ages"
   ]
  },
  {
   "cell_type": "code",
   "execution_count": 12,
   "metadata": {
    "collapsed": false
   },
   "outputs": [
    {
     "name": "stdout",
     "output_type": "stream",
     "text": [
      "                  starttime   D   N\n",
      "0       2015-09-01 00:00:00 NaN  26\n",
      "1       2015-09-01 00:00:00 NaN  28\n",
      "3       2015-09-01 00:00:07 NaN  23\n",
      "4       2015-09-01 00:00:09 NaN  39\n",
      "5       2015-09-01 00:00:13 NaN  60\n",
      "6       2015-09-01 00:00:49 NaN  51\n",
      "8       2015-09-01 00:00:53 NaN  40\n",
      "10      2015-09-01 00:01:05 NaN  21\n",
      "11      2015-09-01 00:01:06 NaN  31\n",
      "12      2015-09-01 00:01:37 NaN  22\n",
      "...                     ...  ..  ..\n",
      "1289687 2015-09-30 23:57:55 NaN  33\n",
      "1289688 2015-09-30 23:58:14 NaN  25\n",
      "1289689 2015-09-30 23:58:21 NaN  33\n",
      "1289690 2015-09-30 23:58:34 NaN  33\n",
      "1289691 2015-09-30 23:58:37 NaN  25\n",
      "1289692 2015-09-30 23:58:44 NaN  35\n",
      "1289693 2015-09-30 23:58:56 NaN  33\n",
      "1289696 2015-09-30 23:59:44 NaN  36\n",
      "1289697 2015-09-30 23:59:48 NaN  30\n",
      "1289698 2015-09-30 23:59:57 NaN  38\n",
      "\n",
      "[1079592 rows x 3 columns]\n"
     ]
    }
   ],
   "source": [
    "# Extracting day-time and night-time riders data, and removing extra fields\n",
    "ages['D'] = 2015-ages['birth year'][(ages['starttime'].dt.hour >= 6) & (ages['starttime'].dt.hour <=20)]\n",
    "ages['N'] = 2015-ages['birth year'][(ages['starttime'].dt.hour >=20) | (ages['starttime'].dt.hour <=6)]\n",
    "ages.drop(['usertype', 'birth year'], axis=1, inplace=True)\n",
    "print ages"
   ]
  },
  {
   "cell_type": "code",
   "execution_count": 13,
   "metadata": {
    "collapsed": false
   },
   "outputs": [
    {
     "data": {
      "image/png": "[encoded data removed]",
      "text/plain": [
       "<matplotlib.figure.Figure at 0x1b710f98>"
      ]
     },
     "metadata": {},
     "output_type": "display_data"
    },
    {
     "data": {
      "image/png": "[encoded data removed]",
      "text/plain": [
       "<matplotlib.figure.Figure at 0x179d46a0>"
      ]
     },
     "metadata": {},
     "output_type": "display_data"
    }
   ],
   "source": [
    "# Caclulating the distributions for the ages of the riders, ages between 10 and 90 are aggregated into groups of 5 years wide.\n",
    "bins = np.arange(10, 90, 5)\n",
    "mplot=ages.D.groupby(pd.cut(ages.D, bins)).agg([count_nonzero]).plot(kind='bar')\n",
    "fplot=ages.N.groupby(pd.cut(ages.N, bins)).agg([count_nonzero]).plot(kind='bar')"
   ]
  },
  {
   "cell_type": "code",
   "execution_count": 14,
   "metadata": {
    "collapsed": false
   },
   "outputs": [
    {
     "name": "stdout",
     "output_type": "stream",
     "text": [
      "          count_nonzero\n",
      "D                      \n",
      "(10, 15]            NaN\n",
      "(15, 20]       0.004437\n",
      "(20, 25]       0.044560\n",
      "(25, 30]       0.084715\n",
      "(30, 35]       0.092754\n",
      "(35, 40]       0.081512\n",
      "(40, 45]       0.059190\n",
      "(45, 50]       0.040442\n",
      "(50, 55]       0.025945\n",
      "(55, 60]       0.013354\n",
      "(60, 65]       0.005790\n",
      "(65, 70]       0.001556\n",
      "(70, 75]       0.000408\n",
      "(75, 80]       0.000064\n",
      "(80, 85]       0.000000\n"
     ]
    },
    {
     "data": {
      "image/png": "[encoded data removed]",
      "text/plain": [
       "<matplotlib.figure.Figure at 0x1b709f28>"
      ]
     },
     "metadata": {},
     "output_type": "display_data"
    }
   ],
   "source": [
    "# Calculating cumulative distributions of ages for day and night riders\n",
    "D=ages.D.groupby(pd.cut(ages.D, bins)).agg([count_nonzero]).cumsum()\n",
    "N=ages.N.groupby(pd.cut(ages.N, bins)).agg([count_nonzero]).cumsum()\n",
    "\n",
    "# Printing out the normalized differences between the probabilities for day and night riders\n",
    "print np.abs(D / np.max(D)-N / np.max(N))\n",
    "\n",
    "#plotting the cumulative distributions\n",
    "mplot=pl.plot(bins[:-1] + 5, D / np.max(D), label = \"Day\")\n",
    "fplot=pl.plot(bins[:-1] + 5, N / np.max(N), label = \"Night\")\n",
    "lplot=pl.legend()"
   ]
  },
  {
   "cell_type": "markdown",
   "metadata": {},
   "source": [
    "### 2. Performing Kolmogorov-Smirnov, Pearson's and Spearman's tests, using SciPy library + calculating Kolmogorov-Smirnov from scratch\n",
    "### Kolmogorov-Smirnov"
   ]
  },
  {
   "cell_type": "code",
   "execution_count": 15,
   "metadata": {
    "collapsed": false
   },
   "outputs": [
    {
     "name": "stdout",
     "output_type": "stream",
     "text": [
      "Kolmogorov-Smirnov statistc = 0.733807771825, p-value = 0.0\n"
     ]
    }
   ],
   "source": [
    "# Calculating the Kolmogorov-Smirnov statistic for the ages of day and night riders\n",
    "ks=scipy.stats.ks_2samp(ages.D, ages.N)\n",
    "\n",
    "#print \"Kolmogorov-Smirnov statistic = \", ks.d\n",
    "#print \"p-value = \", ks.p-value\n",
    "print \"Kolmogorov-Smirnov statistc = %s, p-value = %s\" %ks"
   ]
  },
  {
   "cell_type": "markdown",
   "metadata": {},
   "source": [
    "#### Table with $\\alpha$ and $c$$(\\alpha$$)$ values for K-S test\n",
    "| $\\alpha$   | $0.10$ | $0.05$ | $0.025$ | $0.01$ | $0.005$ | $0.001$ |         \n",
    "| :-: | :-: | :-: | :-: | :-: | :-: | :-: | \n",
    "| $c$$(\\alpha$$)$| $1.22$ | $1.36$ | $1.48$ | $1.63$  | $1.73$  | $1.95$  |"
   ]
  },
  {
   "cell_type": "markdown",
   "metadata": {},
   "source": [
    "####  P-value for K-S statistic shows the chance that the value of the Komogorov-Smirnov D statistic would be as large or larger than #### observed. Having the significance level of 0.05, the c(a) value is 1.36, according to the table. The test returned the statistic value of 0.73 and p-value of 0, therefore we reject the null-hypothesis\n",
    "#### The next block is my implementation of the K-S test. The implementation will calculate the right side of the inequality to compare the result to the values from the table\n",
    "$D_KS(n1,n2) > c(\\alpha) \\sqrt{\\frac{(n1+n2)}{n1n2}}$"
   ]
  },
  {
   "cell_type": "code",
   "execution_count": 16,
   "metadata": {
    "collapsed": false
   },
   "outputs": [
    {
     "name": "stdout",
     "output_type": "stream",
     "text": [
      "The size of the day sample is 972710, the size of the night sample is 180497 \n"
     ]
    }
   ],
   "source": [
    "# Counting sizes of the day and night riders samples\n",
    "n_1=(isnan(ages.D)==0).sum()\n",
    "n_2=(isnan(ages.N)==0).sum()\n",
    "print \"The size of the day sample is %s, the size of the night sample is %s \" %(n_1, n_2)"
   ]
  },
  {
   "cell_type": "markdown",
   "metadata": {},
   "source": [
    "#### calculating the right side value, $c(\\alpha) \\sqrt{\\frac{(n1+n2)}{n1n2}}$"
   ]
  },
  {
   "cell_type": "code",
   "execution_count": 17,
   "metadata": {
    "collapsed": false
   },
   "outputs": [
    {
     "name": "stdout",
     "output_type": "stream",
     "text": [
      "Right side of the inequality, c(a)*sqrt =  0.0034855061951\n",
      "Kolmogorov-Smirnov statistic =  0.0936442986523\n"
     ]
    }
   ],
   "source": [
    "# Having the significance level of 0.05 returns c(a) of 1.36, according to the table.\n",
    "\n",
    "c_a_sqrt = 1.36*sqrt(1.0*(n_1+n_2)/(n_1*n_2))\n",
    "print \"Right side of the inequality, c(a)*sqrt = \", c_a_sqrt\n",
    "\n",
    "# Calculating cumulative distributions of ages for day and night riders\n",
    "bins = np.arange(10, 90, 1)\n",
    "D_ks=ages.D.groupby(pd.cut(ages.D, bins)).agg([count_nonzero]).cumsum()\n",
    "N_ks=ages.N.groupby(pd.cut(ages.N, bins)).agg([count_nonzero]).cumsum()\n",
    "# Calculating Kolmogorov-Smirnov statistic\n",
    "DD_ks = np.max(abs(D_ks/ np.max(D_ks)- N_ks/ np.max(N_ks)))\n",
    "print \"Kolmogorov-Smirnov statistic = \", DD_ks.count_nonzero"
   ]
  },
  {
   "cell_type": "markdown",
   "metadata": {},
   "source": [
    "#### Having the significance level of 0.05, the c(a) value is 1.36, according to the table. The test returned the statistic value of 0.094, while the calculated $c(\\alpha) \\sqrt{\\frac{(n1+n2)}{n1n2}}$ is equal to 0.0035, which is less than the 0.093. Therefore, the null-hypothesis is rejected. \n",
    "#### Calculated manually Kolmogorov-Smirnov test happened to decline from the Scipy one. It produced the same result, but the result is much less accurate.\n",
    "### Pearson's test"
   ]
  },
  {
   "cell_type": "code",
   "execution_count": 18,
   "metadata": {
    "collapsed": false
   },
   "outputs": [
    {
     "name": "stdout",
     "output_type": "stream",
     "text": [
      "Two-tailed pearson p-values: 0.00508537480231 0.0307326408951\n"
     ]
    }
   ],
   "source": [
    "# checking the sizes of the day and night samples \n",
    "# cleaning samples from NaN values\n",
    "D= ages.D[isnan(ages.D)==0]\n",
    "N= ages.N[isnan(ages.N)==0]\n",
    "# randomly equalizing the sizes of samples, by selecting random samples from the bigger samples\n",
    "# of the size of the size of the smaller sample\n",
    "if (D.count()>N.count()):\n",
    "    D = D.sample(N.count())\n",
    "if (D.count()<N.count()):\n",
    "    N = N.sample(D.count()) \n",
    "\n",
    "pearson = scipy.stats.pearsonr(D, N)\n",
    "print \"Two-tailed pearson p-values: %s %s\" %pearson\n",
    "\n",
    "#print \"Since Pearson’s correlation coefficient is close to 0, there is no linear relationship\""
   ]
  },
  {
   "cell_type": "markdown",
   "metadata": {},
   "source": [
    "#### having the r-value really small, <<0.0051 indicates that there is no linear correlation between the Male and Female ages\n",
    "### Spearman's test"
   ]
  },
  {
   "cell_type": "code",
   "execution_count": 20,
   "metadata": {
    "collapsed": false
   },
   "outputs": [
    {
     "name": "stdout",
     "output_type": "stream",
     "text": [
      "(0.0070772950347473915, 0.0026401229596372958)\n"
     ]
    }
   ],
   "source": [
    "#please perform the Spearman's test and tell me what you find\n",
    "spearman = spearmanr(D, N,axis=0)\n",
    "print spearman"
   ]
  },
  {
   "cell_type": "markdown",
   "metadata": {},
   "source": [
    "#### The Spearman test returned the correlation coefficient of 0.0071, meaning that there is a very small correlation between the distributions; and a p-value of 0.0026 for a hypothesis test of two distributions whose variables are uncorrelated."
   ]
  }
 ],
 "metadata": {
  "kernelspec": {
   "display_name": "Python 2",
   "language": "python",
   "name": "python2"
  },
  "language_info": {
   "codemirror_mode": {
    "name": "ipython",
    "version": 2
   },
   "file_extension": ".py",
   "mimetype": "text/x-python",
   "name": "python",
   "nbconvert_exporter": "python",
   "pygments_lexer": "ipython2",
   "version": "2.7.10"
  }
 },
 "nbformat": 4,
 "nbformat_minor": 0
}
