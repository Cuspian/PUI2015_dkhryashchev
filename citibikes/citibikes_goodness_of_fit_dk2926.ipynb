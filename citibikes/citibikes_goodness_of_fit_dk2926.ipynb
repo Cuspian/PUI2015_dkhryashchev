{
 "cells": [
  {
   "cell_type": "markdown",
   "metadata": {
    "collapsed": true
   },
   "source": [
    "## Assignment 3\n",
    "### By Denis Khryashchev (dk2926)\n",
    "    test if the distribution of ages can be modelled by a Gaussian\n",
    "    \n",
    "    1) all riders\n",
    "    \n",
    "    2) summer riders vs winder riders\n",
    "    \n",
    "    use 2 tests, you can use KS, AD, or get creative. use KL or chi2 like you did in Assignment2 or perhaps new ones!\n",
    "    \n",
    "    CHALLANGE! look for a better distribution to fit the data! see notes on how to input a number of different \n",
    "    distributions into the test, not just 'norm' and the few others available by keyword"
   ]
  },
  {
   "cell_type": "code",
   "execution_count": 1,
   "metadata": {
    "collapsed": false,
    "scrolled": true
   },
   "outputs": [
    {
     "name": "stdout",
     "output_type": "stream",
     "text": [
      "Populating the interactive namespace from numpy and matplotlib\n"
     ]
    }
   ],
   "source": [
    "import pylab as pl\n",
    "import pandas as pd\n",
    "import numpy as np\n",
    "%pylab inline\n",
    "import os\n",
    "import scipy.stats"
   ]
  },
  {
   "cell_type": "code",
   "execution_count": 2,
   "metadata": {
    "collapsed": false,
    "scrolled": false
   },
   "outputs": [],
   "source": [
    "# reading Winter+Fall and Spring+Summer data into two dataframes.\n",
    "# data can be accessed here http://www.citibikenyc.com/system-data\n",
    "WinterFall = [pd.read_csv('201409-citibike-tripdata.csv'), pd.read_csv('201410-citibike-tripdata.csv'), \n",
    "              pd.read_csv('201411-citibike-tripdata.csv'), pd.read_csv('201412-citibike-tripdata.csv'),\n",
    "              pd.read_csv('201501-citibike-tripdata.csv'), pd.read_csv('201502-citibike-tripdata.csv')]\n",
    "\n",
    "WF = pd.concat(WinterFall, ignore_index=True)\n",
    "\n",
    "SpringSummer = [pd.read_csv('201503-citibike-tripdata.csv'), pd.read_csv('201504-citibike-tripdata.csv'),\n",
    "                pd.read_csv('201505-citibike-tripdata.csv'), pd.read_csv('201506-citibike-tripdata.csv'),\n",
    "                pd.read_csv('201507-citibike-tripdata.csv'), pd.read_csv('201508-citibike-tripdata.csv'),]\n",
    "\n",
    "SS = pd.concat(SpringSummer, ignore_index=True)\n",
    "\n",
    "# print WF, SS"
   ]
  },
  {
   "cell_type": "markdown",
   "metadata": {},
   "source": [
    "## 1) All the rides. Tests are performed wih the significance of 0.05. Tests: Anderson Darling, Shapiro-Wilk, and Kolmogorov-Smirnov. Null-hypothesis is distribution is normal"
   ]
  },
  {
   "cell_type": "code",
   "execution_count": 3,
   "metadata": {
    "collapsed": false
   },
   "outputs": [
    {
     "data": {
      "image/png": "[encoded data removed]",
      "text/plain": [
       "<matplotlib.figure.Figure at 0x3f2d198>"
      ]
     },
     "metadata": {},
     "output_type": "display_data"
    }
   ],
   "source": [
    "# Merging WinterFall + SpringSummer together to do Gaussian fit test\n",
    "WFSS = pd.concat([WF, SS], ignore_index=True)\n",
    "# calculating ages\n",
    "WFSS['age'] = 2015-WFSS['birth year'][(WFSS['usertype'] == 'Subscriber')]\n",
    "# cleaning data\n",
    "WFSS['age'] = WFSS['age'][~np.isnan(WFSS['age'])]\n",
    "# creating histogram bins\n",
    "bins = np.arange(10, 99, 10)\n",
    "WFSS.age.groupby(pd.cut(WFSS.age, bins)).agg([count_nonzero]).plot(kind='bar', title=\"Winter Fall Spring Summer\")\n",
    "ages = WFSS.age.groupby(pd.cut(WFSS.age, bins)).agg([count_nonzero])"
   ]
  },
  {
   "cell_type": "code",
   "execution_count": 4,
   "metadata": {
    "collapsed": false
   },
   "outputs": [
    {
     "name": "stdout",
     "output_type": "stream",
     "text": [
      "Anderson Darling statistic: 0.490252353737, critical values: [ 0.519  0.591  0.709  0.827  0.984], significance: [ 15.   10.    5.    2.5   1. ]\n"
     ]
    }
   ],
   "source": [
    "# Performing AD test against normal distribution\n",
    "AD_norm = scipy.stats.anderson(ages['count_nonzero'],'norm')\n",
    "print \"Anderson Darling statistic: %s, critical values: %s, significance: %s\" % AD_norm"
   ]
  },
  {
   "cell_type": "code",
   "execution_count": 5,
   "metadata": {
    "collapsed": false
   },
   "outputs": [
    {
     "name": "stdout",
     "output_type": "stream",
     "text": [
      "AD-statistic =  0.490252353737  is bigger than critical values  0.709  with significance of 0.05.\n",
      "Therefore null-hypothesis cannot be rejected. The distribution is normal.\n"
     ]
    }
   ],
   "source": [
    "# extracting statistics\n",
    "print \"AD-statistic = \", AD_norm[0], \" is bigger than critical values \", AD_norm[1][2], \" with significance of 0.05.\"\n",
    "print \"Therefore null-hypothesis cannot be rejected. The distribution is normal.\""
   ]
  },
  {
   "cell_type": "code",
   "execution_count": 6,
   "metadata": {
    "collapsed": false
   },
   "outputs": [
    {
     "name": "stdout",
     "output_type": "stream",
     "text": [
      "Shapiro-Wilk statistic: 0.860610246658, p-value: 0.121767483652 \n"
     ]
    }
   ],
   "source": [
    "# Performing Shapiro-Wilk test against normal distribution\n",
    "SHW_norm = scipy.stats.shapiro(ages['count_nonzero'], a=None, reta=False)\n",
    "print \"Shapiro-Wilk statistic: %s, p-value: %s \" %SHW_norm"
   ]
  },
  {
   "cell_type": "code",
   "execution_count": 7,
   "metadata": {
    "collapsed": false
   },
   "outputs": [
    {
     "name": "stdout",
     "output_type": "stream",
     "text": [
      "Shapiro-Wilk statistic, W =  0.860610246658 , P-value is equal to % 0.121767483652 , greater than 0.05\n",
      "Therefore the null-hypothesis cannot be rejected. The distribution is normal\n"
     ]
    }
   ],
   "source": [
    "#extracting statistics\n",
    "print \"Shapiro-Wilk statistic, W = \", SHW_norm[0], \", P-value is equal to %\", SHW_norm[1], \", greater than 0.05\"\n",
    "print \"Therefore the null-hypothesis cannot be rejected. The distribution is normal\""
   ]
  },
  {
   "cell_type": "code",
   "execution_count": 8,
   "metadata": {
    "collapsed": false
   },
   "outputs": [
    {
     "name": "stdout",
     "output_type": "stream",
     "text": [
      "Kolmogorov-Smirnov statistic normal: 1.0, p-value: 0.0  \n",
      "Kolmogorov-Smirnov statistic cauchy: 0.999999865387, p-value: 0.0\n"
     ]
    }
   ],
   "source": [
    "# Performing Kolmogorov-Smirnov test against normal distribution\n",
    "ks=scipy.stats.kstest(ages, 'norm')\n",
    "print \"Kolmogorov-Smirnov statistic normal: %s, p-value: %s  \"%ks\n",
    "\n",
    "# Performing Kolmogorov-Smirnov test against cauchy distribution\n",
    "ks=scipy.stats.kstest(ages, 'cauchy')\n",
    "print \"Kolmogorov-Smirnov statistic cauchy: %s, p-value: %s\" %ks"
   ]
  },
  {
   "cell_type": "code",
   "execution_count": 9,
   "metadata": {
    "collapsed": true
   },
   "outputs": [],
   "source": [
    "# We reject the null hypothesis, that the distribution is either Normal, or Cauchu, because p-value is eqial to 0.0,\n",
    "# and the K-S statistic is about 1."
   ]
  },
  {
   "cell_type": "markdown",
   "metadata": {},
   "source": [
    "## 2) Spring-Summer vs Fall-Winter. Tests are performed wih the significance of 0.05. Tests: Anderson Darling, Shapiro-Wilk, and Kolmogorov-Smirnov. Null-hypothesis is the distributions are the same"
   ]
  },
  {
   "cell_type": "code",
   "execution_count": 10,
   "metadata": {
    "collapsed": true
   },
   "outputs": [],
   "source": [
    "# calculating the ages\n",
    "WF['age'] = 2015-WF['birth year'][(WF['usertype'] == 'Subscriber')]\n",
    "SS['age'] = 2015-SS['birth year'][(SS['usertype'] == 'Subscriber')]\n",
    "# cleaning the data\n",
    "WF['age'] = WF['age'][~np.isnan(WF['age'])]\n",
    "SS['age'] = SS['age'][~np.isnan(SS['age'])]"
   ]
  },
  {
   "cell_type": "code",
   "execution_count": 11,
   "metadata": {
    "collapsed": false
   },
   "outputs": [
    {
     "data": {
      "image/png": "[encoded data removed]",
      "text/plain": [
       "<matplotlib.figure.Figure at 0xbfa2198>"
      ]
     },
     "metadata": {},
     "output_type": "display_data"
    },
    {
     "data": {
      "image/png": "[encoded data removed]",
      "text/plain": [
       "<matplotlib.figure.Figure at 0x7332e2e8>"
      ]
     },
     "metadata": {},
     "output_type": "display_data"
    }
   ],
   "source": [
    "# Plotting the histograms of the distributions\n",
    "bins = np.arange(10, 99, 10)\n",
    "WF.age.groupby(pd.cut(WF.age, bins)).agg([count_nonzero]).plot(kind='bar', title=\"Winter Fall\")\n",
    "ageWF = WF.age.groupby(pd.cut(WF.age, bins)).agg([count_nonzero])\n",
    "SS.age.groupby(pd.cut(SS.age, bins)).agg([count_nonzero]).plot(kind='bar', title=\"Summer Spring\")\n",
    "ageSS = SS.age.groupby(pd.cut(SS.age, bins)).agg([count_nonzero])"
   ]
  },
  {
   "cell_type": "code",
   "execution_count": 12,
   "metadata": {
    "collapsed": false
   },
   "outputs": [
    {
     "name": "stdout",
     "output_type": "stream",
     "text": [
      "Anderson Darling statistic Winter Fall: 0.482271648813, critical values: [ 0.519  0.591  0.709  0.827  0.984], significance: [ 15.   10.    5.    2.5   1. ]\n",
      "Anderson Darling statistic Summer Spring: 0.499209084683, critical values: [ 0.519  0.591  0.709  0.827  0.984], significance: [ 15.   10.    5.    2.5   1. ]\n"
     ]
    }
   ],
   "source": [
    "# Performing AD-test\n",
    "ADWF_norm = scipy.stats.anderson(ageWF['count_nonzero'],'norm')\n",
    "print \"Anderson Darling statistic Winter Fall: %s, critical values: %s, significance: %s\" %ADWF_norm\n",
    "ADSS_norm = scipy.stats.anderson(ageSS['count_nonzero'], dist='norm')\n",
    "print \"Anderson Darling statistic Summer Spring: %s, critical values: %s, significance: %s\" % ADSS_norm"
   ]
  },
  {
   "cell_type": "code",
   "execution_count": 13,
   "metadata": {
    "collapsed": false
   },
   "outputs": [
    {
     "name": "stdout",
     "output_type": "stream",
     "text": [
      "AD-statistic Winter Fall =  0.482271648813  is smaller than critical values  0.709  with significance of 0.05.\n",
      "Therefore null-hypothesis cannot be rejected. The distribution is normal.\n",
      "AD-statistic Winter Fall =  0.499209084683  is smaller than critical values  0.709  with significance of 0.05.\n",
      "Therefore null-hypothesis cannot be rejected. The distribution is normal.\n"
     ]
    }
   ],
   "source": [
    "# extracting statistics\n",
    "print \"AD-statistic Winter Fall = \", ADWF_norm[0], \" is smaller than critical values \", ADWF_norm[1][2], \" with significance of 0.05.\"\n",
    "print \"Therefore null-hypothesis cannot be rejected. The distribution is normal.\"\n",
    "\n",
    "print \"AD-statistic Winter Fall = \", ADSS_norm[0], \" is smaller than critical values \", ADSS_norm[1][2], \" with significance of 0.05.\"\n",
    "print \"Therefore null-hypothesis cannot be rejected. The distribution is normal.\""
   ]
  },
  {
   "cell_type": "code",
   "execution_count": 15,
   "metadata": {
    "collapsed": false
   },
   "outputs": [
    {
     "name": "stdout",
     "output_type": "stream",
     "text": [
      "Shapiro-Wilk statistic Winter Fall: 0.864716053009, p-value: 0.133738219738 \n",
      "Shapiro-Wilk statistic Spring Summer: 0.856833159924, p-value: 0.111635945737 \n"
     ]
    }
   ],
   "source": [
    "# Performing Shapiro-Wilk tests\n",
    "SHWF_norm = scipy.stats.shapiro(ageWF['count_nonzero'], a=None, reta=False)\n",
    "SHSS_norm = scipy.stats.shapiro(ageSS['count_nonzero'], a=None, reta=False)\n",
    "\n",
    "print \"Shapiro-Wilk statistic Winter Fall: %s, p-value: %s \" % SHWF_norm\n",
    "print \"Shapiro-Wilk statistic Spring Summer: %s, p-value: %s \" % SHSS_norm"
   ]
  },
  {
   "cell_type": "code",
   "execution_count": 16,
   "metadata": {
    "collapsed": false
   },
   "outputs": [
    {
     "name": "stdout",
     "output_type": "stream",
     "text": [
      "Shapiro-Wilk statistic, W =  0.864716053009 , P-value is equal to % 0.133738219738 , greater than 0.05\n",
      "Therefore the null-hypothesis cannot be rejected. The distribution is normal\n",
      "Shapiro-Wilk statistic, W =  0.856833159924 , P-value is equal to % 0.111635945737 , greater than 0.05\n",
      "Therefore the null-hypothesis cannot be rejected. The distribution is normal\n"
     ]
    }
   ],
   "source": [
    "#extracting statistics\n",
    "print \"Shapiro-Wilk statistic, W = \", SHWF_norm[0], \", P-value is equal to %\", SHWF_norm[1], \", greater than 0.05\"\n",
    "print \"Therefore the null-hypothesis cannot be rejected. The distribution is normal\"\n",
    "\n",
    "#extracting statistics\n",
    "print \"Shapiro-Wilk statistic, W = \", SHSS_norm[0], \", P-value is equal to %\", SHSS_norm[1], \", greater than 0.05\"\n",
    "print \"Therefore the null-hypothesis cannot be rejected. The distribution is normal\""
   ]
  },
  {
   "cell_type": "code",
   "execution_count": 17,
   "metadata": {
    "collapsed": false
   },
   "outputs": [
    {
     "name": "stdout",
     "output_type": "stream",
     "text": [
      "Kolmogorov-Smirnov statistic Winter Fall normal: 0.999999865387, p-value: 0.0  \n",
      "Kolmogorov-Smirnov statistic Spring Summer normal: 0.999999865387, p-value: 0.0  \n",
      "Kolmogorov-Smirnov statistic Winter Fall cauchy: 0.999999865387, p-value: 0.0\n",
      "Kolmogorov-Smirnov statistic Spring Summer cauchy: 0.999999865387, p-value: 0.0\n"
     ]
    }
   ],
   "source": [
    "# Performing Kolmogorov-Smirnov test against normal distribution\n",
    "ks_wf=scipy.stats.kstest(ageWF, 'norm')\n",
    "print \"Kolmogorov-Smirnov statistic Winter Fall normal: %s, p-value: %s  \"%ks\n",
    "ks_ss=scipy.stats.kstest(ageSS, 'norm')\n",
    "print \"Kolmogorov-Smirnov statistic Spring Summer normal: %s, p-value: %s  \"%ks\n",
    "\n",
    "# Performing Kolmogorov-Smirnov test against cauchy distribution\n",
    "kswf_=scipy.stats.kstest(ageWF, 'cauchy')\n",
    "print \"Kolmogorov-Smirnov statistic Winter Fall cauchy: %s, p-value: %s\" %ks\n",
    "# Performing Kolmogorov-Smirnov test against cauchy distribution\n",
    "kswf_=scipy.stats.kstest(ageSS, 'cauchy')\n",
    "print \"Kolmogorov-Smirnov statistic Spring Summer cauchy: %s, p-value: %s\" %ks"
   ]
  },
  {
   "cell_type": "code",
   "execution_count": 18,
   "metadata": {
    "collapsed": true
   },
   "outputs": [],
   "source": [
    "# We reject the null hypothesis, that the distribution is either Normal, or Cauchu, because p-value is eqial to 0.0,\n",
    "# and the K-S statistic is about 1."
   ]
  }
 ],
 "metadata": {
  "kernelspec": {
   "display_name": "Python 2",
   "language": "python",
   "name": "python2"
  }
 },
 "nbformat": 4,
 "nbformat_minor": 0
}
